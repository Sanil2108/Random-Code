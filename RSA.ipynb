{
 "cells": [
  {
   "cell_type": "code",
   "execution_count": 2,
   "metadata": {},
   "outputs": [],
   "source": [
    "from math import sqrt"
   ]
  },
  {
   "cell_type": "code",
   "execution_count": 3,
   "metadata": {},
   "outputs": [],
   "source": [
    "def is_prime(n):\n",
    "    for i in range(int(sqrt(n)), n):\n",
    "        if n%i == 0:\n",
    "            return False\n",
    "    return True"
   ]
  },
  {
   "cell_type": "code",
   "execution_count": 4,
   "metadata": {},
   "outputs": [],
   "source": [
    "from random import randint"
   ]
  },
  {
   "cell_type": "code",
   "execution_count": 5,
   "metadata": {},
   "outputs": [],
   "source": [
    "MIN_NUMBER = 50\n",
    "MAX_NUMBER = 100\n",
    "def find_random_prime():\n",
    "    random_temp = randint(MIN_NUMBER, MAX_NUMBER)\n",
    "    while(is_prime(random_temp) == False):\n",
    "        random_temp = randint(MIN_NUMBER, MAX_NUMBER)\n",
    "    return random_temp"
   ]
  },
  {
   "cell_type": "code",
   "execution_count": 15,
   "metadata": {},
   "outputs": [],
   "source": [
    "def RSA():\n",
    "    p = 29\n",
    "#     find_random_prime()\n",
    "    q = 31\n",
    "    find_random_prime()\n",
    "    print(\"p, q\", p, q)\n",
    "    n = p*q\n",
    "    lambda_ = lcm(p-1, q-1)\n",
    "    print(\"lambda\", lambda_)\n",
    "    \n",
    "    # Finding e\n",
    "    e = -1\n",
    "    while(True):\n",
    "        e = randint(2, lambda_)\n",
    "        if gcd(e, lambda_) == 1:\n",
    "            break\n",
    "            \n",
    "    d = modular_multiplicative_inverse(e, lambda_)\n",
    "    \n",
    "    print(\"e, d\", e, d)\n",
    "    \n",
    "    return {\"public\":(e, n), \"private\":d}"
   ]
  },
  {
   "cell_type": "code",
   "execution_count": 7,
   "metadata": {},
   "outputs": [],
   "source": [
    "def gcd(a, b):\n",
    "    min_number = min(a, b)\n",
    "    max_number = max(a, b)\n",
    "    \n",
    "    while(True):\n",
    "        q = int(max_number/min_number)\n",
    "        remainder = max_number % min_number\n",
    "        \n",
    "        if(remainder == 0):\n",
    "            break\n",
    "        \n",
    "        max_number = min_number\n",
    "        min_number = remainder\n",
    "    \n",
    "    return min_number"
   ]
  },
  {
   "cell_type": "code",
   "execution_count": 8,
   "metadata": {},
   "outputs": [],
   "source": [
    "def lcm(a, b):\n",
    "    return int((a*b)/gcd(a, b))"
   ]
  },
  {
   "cell_type": "code",
   "execution_count": 9,
   "metadata": {},
   "outputs": [
    {
     "name": "stdout",
     "output_type": "stream",
     "text": [
      "p, q 53 61\n",
      "lambda 780\n"
     ]
    },
    {
     "ename": "NameError",
     "evalue": "name 'modular_multiplicative_inverse' is not defined",
     "output_type": "error",
     "traceback": [
      "\u001b[0;31m---------------------------------------------------------------------------\u001b[0m",
      "\u001b[0;31mNameError\u001b[0m                                 Traceback (most recent call last)",
      "\u001b[0;32m<ipython-input-9-8bd0b64177ab>\u001b[0m in \u001b[0;36m<module>\u001b[0;34m\u001b[0m\n\u001b[0;32m----> 1\u001b[0;31m \u001b[0mRSA\u001b[0m\u001b[0;34m(\u001b[0m\u001b[0;34m)\u001b[0m\u001b[0;34m\u001b[0m\u001b[0m\n\u001b[0m",
      "\u001b[0;32m<ipython-input-6-fbb44af7ffb2>\u001b[0m in \u001b[0;36mRSA\u001b[0;34m()\u001b[0m\n\u001b[1;32m     14\u001b[0m             \u001b[0;32mbreak\u001b[0m\u001b[0;34m\u001b[0m\u001b[0m\n\u001b[1;32m     15\u001b[0m \u001b[0;34m\u001b[0m\u001b[0m\n\u001b[0;32m---> 16\u001b[0;31m     \u001b[0md\u001b[0m \u001b[0;34m=\u001b[0m \u001b[0mmodular_multiplicative_inverse\u001b[0m\u001b[0;34m(\u001b[0m\u001b[0me\u001b[0m\u001b[0;34m,\u001b[0m \u001b[0mlambda_\u001b[0m\u001b[0;34m)\u001b[0m\u001b[0;34m\u001b[0m\u001b[0m\n\u001b[0m\u001b[1;32m     17\u001b[0m \u001b[0;34m\u001b[0m\u001b[0m\n\u001b[1;32m     18\u001b[0m     \u001b[0mprint\u001b[0m\u001b[0;34m(\u001b[0m\u001b[0;34m\"e, d\"\u001b[0m\u001b[0;34m,\u001b[0m \u001b[0me\u001b[0m\u001b[0;34m,\u001b[0m \u001b[0md\u001b[0m\u001b[0;34m)\u001b[0m\u001b[0;34m\u001b[0m\u001b[0m\n",
      "\u001b[0;31mNameError\u001b[0m: name 'modular_multiplicative_inverse' is not defined"
     ]
    }
   ],
   "source": [
    "RSA()"
   ]
  },
  {
   "cell_type": "code",
   "execution_count": 22,
   "metadata": {},
   "outputs": [],
   "source": [
    "# For x mod n\n",
    "def modular_multiplicative_inverse(x, n):\n",
    "    min_number = x\n",
    "    max_number = n\n",
    "    p0 = 0\n",
    "    p1 = 1\n",
    "    q0 = -1\n",
    "    q1 = -1\n",
    "    count = 0\n",
    "\n",
    "    while True:\n",
    "        count += 1\n",
    "\n",
    "        q = int(max_number / min_number)\n",
    "        remainder = max_number % min_number\n",
    "\n",
    "        if count == 1:\n",
    "            q0 = q\n",
    "\n",
    "        if count == 2:\n",
    "            q1 = q\n",
    "\n",
    "        if count > 2:\n",
    "            temp_p = (p0 - p1 * q0) % n\n",
    "            p0 = p1\n",
    "            p1 = temp_p\n",
    "\n",
    "            q1, q0 = q, q1\n",
    "\n",
    "        if remainder == 0:\n",
    "            temp_p = (p0 - p1 * q0) % n\n",
    "            p0 = p1\n",
    "            p1 = temp_p\n",
    "            \n",
    "            print(p1)\n",
    "\n",
    "            q1, q0 = q, q1\n",
    "\n",
    "            break\n",
    "\n",
    "        max_number = min_number\n",
    "        min_number = remainder\n",
    "\n",
    "    return p1"
   ]
  },
  {
   "cell_type": "code",
   "execution_count": 17,
   "metadata": {},
   "outputs": [
    {
     "data": {
      "text/plain": [
       "7"
      ]
     },
     "execution_count": 17,
     "metadata": {},
     "output_type": "execute_result"
    }
   ],
   "source": [
    "modular_multiplicative_inverse(15, 26)"
   ]
  },
  {
   "cell_type": "code",
   "execution_count": 18,
   "metadata": {},
   "outputs": [],
   "source": [
    "def encrypt_char(m, public_key_e, public_key_n):\n",
    "    return (m**public_key_e) % public_key_n"
   ]
  },
  {
   "cell_type": "code",
   "execution_count": 19,
   "metadata": {},
   "outputs": [],
   "source": [
    "def dycrypt_char(c, private_key_d, public_key_n):\n",
    "    return (c**private_key_d)%public_key_n"
   ]
  },
  {
   "cell_type": "code",
   "execution_count": 23,
   "metadata": {},
   "outputs": [
    {
     "name": "stdout",
     "output_type": "stream",
     "text": [
      "p, q 29 31\n",
      "lambda 420\n",
      "283\n",
      "e, d 187 283\n",
      "283\n",
      "187\n",
      "899\n",
      "encrypted 451\n"
     ]
    },
    {
     "data": {
      "text/plain": [
       "65"
      ]
     },
     "execution_count": 23,
     "metadata": {},
     "output_type": "execute_result"
    }
   ],
   "source": [
    "dict_ = RSA()\n",
    "private_key_d = dict_['private']\n",
    "public_key_n = dict_['public'][1]\n",
    "public_key_e = dict_['public'][0]\n",
    "\n",
    "print(private_key_d)\n",
    "print(public_key_e)\n",
    "print(public_key_n)\n",
    "\n",
    "encrypted_char = encrypt_char(65, public_key_e, public_key_n)\n",
    "print(\"encrypted\", encrypted_char)\n",
    "dycrypt_char(encrypted_char, private_key_d, public_key_n)"
   ]
  },
  {
   "cell_type": "code",
   "execution_count": 24,
   "metadata": {},
   "outputs": [
    {
     "name": "stdout",
     "output_type": "stream",
     "text": [
      "293\n"
     ]
    },
    {
     "data": {
      "text/plain": [
       "293"
      ]
     },
     "execution_count": 24,
     "metadata": {},
     "output_type": "execute_result"
    }
   ],
   "source": [
    "modular_multiplicative_inverse(377, 420)"
   ]
  },
  {
   "cell_type": "code",
   "execution_count": 36,
   "metadata": {},
   "outputs": [
    {
     "data": {
      "text/plain": [
       "662"
      ]
     },
     "execution_count": 36,
     "metadata": {},
     "output_type": "execute_result"
    }
   ],
   "source": [
    "65**143 % 899"
   ]
  },
  {
   "cell_type": "code",
   "execution_count": null,
   "metadata": {},
   "outputs": [],
   "source": [
    "9223372036854775807"
   ]
  }
 ],
 "metadata": {
  "kernelspec": {
   "display_name": "Python 3",
   "language": "python",
   "name": "python3"
  },
  "language_info": {
   "codemirror_mode": {
    "name": "ipython",
    "version": 3
   },
   "file_extension": ".py",
   "mimetype": "text/x-python",
   "name": "python",
   "nbconvert_exporter": "python",
   "pygments_lexer": "ipython3",
   "version": "3.5.2"
  }
 },
 "nbformat": 4,
 "nbformat_minor": 2
}
